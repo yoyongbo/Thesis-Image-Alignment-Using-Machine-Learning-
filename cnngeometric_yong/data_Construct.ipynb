{
 "cells": [
  {
   "cell_type": "code",
   "execution_count": 11,
   "metadata": {},
   "outputs": [],
   "source": [
    "import pandas as pd"
   ]
  },
  {
   "cell_type": "code",
   "execution_count": 12,
   "metadata": {},
   "outputs": [
    {
     "data": {
      "text/html": [
       "<div>\n",
       "<style scoped>\n",
       "    .dataframe tbody tr th:only-of-type {\n",
       "        vertical-align: middle;\n",
       "    }\n",
       "\n",
       "    .dataframe tbody tr th {\n",
       "        vertical-align: top;\n",
       "    }\n",
       "\n",
       "    .dataframe thead th {\n",
       "        text-align: right;\n",
       "    }\n",
       "</style>\n",
       "<table border=\"1\" class=\"dataframe\">\n",
       "  <thead>\n",
       "    <tr style=\"text-align: right;\">\n",
       "      <th></th>\n",
       "      <th>Source_Image_PATH</th>\n",
       "      <th>Transform_Image_PATH</th>\n",
       "      <th>A11</th>\n",
       "      <th>A12</th>\n",
       "      <th>tx</th>\n",
       "      <th>A21</th>\n",
       "      <th>A22</th>\n",
       "      <th>ty</th>\n",
       "    </tr>\n",
       "  </thead>\n",
       "  <tbody>\n",
       "    <tr>\n",
       "      <td>0</td>\n",
       "      <td>center_images/46.063-62.71_13.png</td>\n",
       "      <td>transformed_images/down_-80 right_80 roate_270...</td>\n",
       "      <td>-1.836970e-16</td>\n",
       "      <td>-1.0</td>\n",
       "      <td>320.0</td>\n",
       "      <td>1.0</td>\n",
       "      <td>-1.836970e-16</td>\n",
       "      <td>8.000000e+01</td>\n",
       "    </tr>\n",
       "    <tr>\n",
       "      <td>1</td>\n",
       "      <td>center_images/46.449-62.648_13.png</td>\n",
       "      <td>transformed_images/down_60 right_0 roate_27046...</td>\n",
       "      <td>-1.836970e-16</td>\n",
       "      <td>-1.0</td>\n",
       "      <td>180.0</td>\n",
       "      <td>1.0</td>\n",
       "      <td>-1.836970e-16</td>\n",
       "      <td>1.739989e-14</td>\n",
       "    </tr>\n",
       "  </tbody>\n",
       "</table>\n",
       "</div>"
      ],
      "text/plain": [
       "                    Source_Image_PATH  \\\n",
       "0   center_images/46.063-62.71_13.png   \n",
       "1  center_images/46.449-62.648_13.png   \n",
       "\n",
       "                                Transform_Image_PATH           A11  A12  \\\n",
       "0  transformed_images/down_-80 right_80 roate_270... -1.836970e-16 -1.0   \n",
       "1  transformed_images/down_60 right_0 roate_27046... -1.836970e-16 -1.0   \n",
       "\n",
       "      tx  A21           A22            ty  \n",
       "0  320.0  1.0 -1.836970e-16  8.000000e+01  \n",
       "1  180.0  1.0 -1.836970e-16  1.739989e-14  "
      ]
     },
     "execution_count": 12,
     "metadata": {},
     "output_type": "execute_result"
    }
   ],
   "source": [
    "df = pd.read_csv('test_yong.csv')\n",
    "df.head(2)"
   ]
  },
  {
   "cell_type": "code",
   "execution_count": 13,
   "metadata": {},
   "outputs": [],
   "source": [
    "x=df.iloc[0,0]"
   ]
  },
  {
   "cell_type": "code",
   "execution_count": 14,
   "metadata": {},
   "outputs": [
    {
     "data": {
      "text/plain": [
       "'center_images/46.063-62.71_13.png'"
      ]
     },
     "execution_count": 14,
     "metadata": {},
     "output_type": "execute_result"
    }
   ],
   "source": [
    "x"
   ]
  },
  {
   "cell_type": "code",
   "execution_count": 15,
   "metadata": {},
   "outputs": [
    {
     "data": {
      "text/plain": [
       "'Images/46.063-62.71_13.png'"
      ]
     },
     "execution_count": 15,
     "metadata": {},
     "output_type": "execute_result"
    }
   ],
   "source": [
    "'I'+x[8:]"
   ]
  },
  {
   "cell_type": "code",
   "execution_count": 16,
   "metadata": {},
   "outputs": [
    {
     "data": {
      "text/plain": [
       "0             Images/46.063-62.71_13.png\n",
       "1            Images/46.449-62.648_13.png\n",
       "2              Images/46.15-62.93_13.png\n",
       "3            Images/46.213-63.089_13.png\n",
       "4            Images/46.351-63.512_13.png\n",
       "                      ...               \n",
       "2140    Images/46.035-62.872_13 copy.png\n",
       "2141          Images/46.258-63.36_13.png\n",
       "2142         Images/46.464-63.331_13.png\n",
       "2143         Images/46.949-64.033_13.png\n",
       "2144         Images/46.467-63.378_14.png\n",
       "Name: Source_Image_PATH, Length: 2145, dtype: object"
      ]
     },
     "execution_count": 16,
     "metadata": {},
     "output_type": "execute_result"
    }
   ],
   "source": [
    "image_name = df['Source_Image_PATH'].apply(lambda x: 'I'+x[8:])\n",
    "image_name"
   ]
  },
  {
   "cell_type": "code",
   "execution_count": 17,
   "metadata": {},
   "outputs": [],
   "source": [
    "data = {\n",
    "    'image_name':image_name,\n",
    "    'A22':df['A22'].values,\n",
    "    'A21':df['A21'].values,\n",
    "    'A12':df['A12'].values,\n",
    "    'A11':df['A11'].values,\n",
    "    'ty':df['ty'].values,\n",
    "    'tx':df['tx'].values\n",
    "       }\n"
   ]
  },
  {
   "cell_type": "code",
   "execution_count": 18,
   "metadata": {},
   "outputs": [
    {
     "data": {
      "text/html": [
       "<div>\n",
       "<style scoped>\n",
       "    .dataframe tbody tr th:only-of-type {\n",
       "        vertical-align: middle;\n",
       "    }\n",
       "\n",
       "    .dataframe tbody tr th {\n",
       "        vertical-align: top;\n",
       "    }\n",
       "\n",
       "    .dataframe thead th {\n",
       "        text-align: right;\n",
       "    }\n",
       "</style>\n",
       "<table border=\"1\" class=\"dataframe\">\n",
       "  <thead>\n",
       "    <tr style=\"text-align: right;\">\n",
       "      <th></th>\n",
       "      <th>image_name</th>\n",
       "      <th>A22</th>\n",
       "      <th>A21</th>\n",
       "      <th>A12</th>\n",
       "      <th>A11</th>\n",
       "      <th>ty</th>\n",
       "      <th>tx</th>\n",
       "    </tr>\n",
       "  </thead>\n",
       "  <tbody>\n",
       "    <tr>\n",
       "      <td>0</td>\n",
       "      <td>Images/46.063-62.71_13.png</td>\n",
       "      <td>-1.836970e-16</td>\n",
       "      <td>1.000000e+00</td>\n",
       "      <td>-1.000000e+00</td>\n",
       "      <td>-1.836970e-16</td>\n",
       "      <td>8.000000e+01</td>\n",
       "      <td>3.200000e+02</td>\n",
       "    </tr>\n",
       "    <tr>\n",
       "      <td>1</td>\n",
       "      <td>Images/46.449-62.648_13.png</td>\n",
       "      <td>-1.836970e-16</td>\n",
       "      <td>1.000000e+00</td>\n",
       "      <td>-1.000000e+00</td>\n",
       "      <td>-1.836970e-16</td>\n",
       "      <td>1.739989e-14</td>\n",
       "      <td>1.800000e+02</td>\n",
       "    </tr>\n",
       "    <tr>\n",
       "      <td>2</td>\n",
       "      <td>Images/46.15-62.93_13.png</td>\n",
       "      <td>1.000000e+00</td>\n",
       "      <td>0.000000e+00</td>\n",
       "      <td>0.000000e+00</td>\n",
       "      <td>1.000000e+00</td>\n",
       "      <td>0.000000e+00</td>\n",
       "      <td>1.000000e+02</td>\n",
       "    </tr>\n",
       "    <tr>\n",
       "      <td>3</td>\n",
       "      <td>Images/46.213-63.089_13.png</td>\n",
       "      <td>6.123234e-17</td>\n",
       "      <td>-1.000000e+00</td>\n",
       "      <td>1.000000e+00</td>\n",
       "      <td>6.123234e-17</td>\n",
       "      <td>2.400000e+02</td>\n",
       "      <td>-1.200000e+02</td>\n",
       "    </tr>\n",
       "    <tr>\n",
       "      <td>4</td>\n",
       "      <td>Images/46.351-63.512_13.png</td>\n",
       "      <td>-1.836970e-16</td>\n",
       "      <td>1.000000e+00</td>\n",
       "      <td>-1.000000e+00</td>\n",
       "      <td>-1.836970e-16</td>\n",
       "      <td>2.000000e+01</td>\n",
       "      <td>2.600000e+02</td>\n",
       "    </tr>\n",
       "    <tr>\n",
       "      <td>...</td>\n",
       "      <td>...</td>\n",
       "      <td>...</td>\n",
       "      <td>...</td>\n",
       "      <td>...</td>\n",
       "      <td>...</td>\n",
       "      <td>...</td>\n",
       "      <td>...</td>\n",
       "    </tr>\n",
       "    <tr>\n",
       "      <td>2140</td>\n",
       "      <td>Images/46.035-62.872_13 copy.png</td>\n",
       "      <td>1.000000e+00</td>\n",
       "      <td>0.000000e+00</td>\n",
       "      <td>0.000000e+00</td>\n",
       "      <td>1.000000e+00</td>\n",
       "      <td>6.000000e+01</td>\n",
       "      <td>0.000000e+00</td>\n",
       "    </tr>\n",
       "    <tr>\n",
       "      <td>2141</td>\n",
       "      <td>Images/46.258-63.36_13.png</td>\n",
       "      <td>-1.000000e+00</td>\n",
       "      <td>-1.224647e-16</td>\n",
       "      <td>1.224647e-16</td>\n",
       "      <td>-1.000000e+00</td>\n",
       "      <td>1.400000e+02</td>\n",
       "      <td>2.400000e+02</td>\n",
       "    </tr>\n",
       "    <tr>\n",
       "      <td>2142</td>\n",
       "      <td>Images/46.464-63.331_13.png</td>\n",
       "      <td>-1.000000e+00</td>\n",
       "      <td>-1.224647e-16</td>\n",
       "      <td>1.224647e-16</td>\n",
       "      <td>-1.000000e+00</td>\n",
       "      <td>2.400000e+02</td>\n",
       "      <td>3.000000e+02</td>\n",
       "    </tr>\n",
       "    <tr>\n",
       "      <td>2143</td>\n",
       "      <td>Images/46.949-64.033_13.png</td>\n",
       "      <td>-1.000000e+00</td>\n",
       "      <td>-1.224647e-16</td>\n",
       "      <td>1.224647e-16</td>\n",
       "      <td>-1.000000e+00</td>\n",
       "      <td>1.800000e+02</td>\n",
       "      <td>2.400000e+02</td>\n",
       "    </tr>\n",
       "    <tr>\n",
       "      <td>2144</td>\n",
       "      <td>Images/46.467-63.378_14.png</td>\n",
       "      <td>6.123234e-17</td>\n",
       "      <td>-1.000000e+00</td>\n",
       "      <td>1.000000e+00</td>\n",
       "      <td>6.123234e-17</td>\n",
       "      <td>1.600000e+02</td>\n",
       "      <td>-9.312268e-15</td>\n",
       "    </tr>\n",
       "  </tbody>\n",
       "</table>\n",
       "<p>2145 rows × 7 columns</p>\n",
       "</div>"
      ],
      "text/plain": [
       "                            image_name           A22           A21  \\\n",
       "0           Images/46.063-62.71_13.png -1.836970e-16  1.000000e+00   \n",
       "1          Images/46.449-62.648_13.png -1.836970e-16  1.000000e+00   \n",
       "2            Images/46.15-62.93_13.png  1.000000e+00  0.000000e+00   \n",
       "3          Images/46.213-63.089_13.png  6.123234e-17 -1.000000e+00   \n",
       "4          Images/46.351-63.512_13.png -1.836970e-16  1.000000e+00   \n",
       "...                                ...           ...           ...   \n",
       "2140  Images/46.035-62.872_13 copy.png  1.000000e+00  0.000000e+00   \n",
       "2141        Images/46.258-63.36_13.png -1.000000e+00 -1.224647e-16   \n",
       "2142       Images/46.464-63.331_13.png -1.000000e+00 -1.224647e-16   \n",
       "2143       Images/46.949-64.033_13.png -1.000000e+00 -1.224647e-16   \n",
       "2144       Images/46.467-63.378_14.png  6.123234e-17 -1.000000e+00   \n",
       "\n",
       "               A12           A11            ty            tx  \n",
       "0    -1.000000e+00 -1.836970e-16  8.000000e+01  3.200000e+02  \n",
       "1    -1.000000e+00 -1.836970e-16  1.739989e-14  1.800000e+02  \n",
       "2     0.000000e+00  1.000000e+00  0.000000e+00  1.000000e+02  \n",
       "3     1.000000e+00  6.123234e-17  2.400000e+02 -1.200000e+02  \n",
       "4    -1.000000e+00 -1.836970e-16  2.000000e+01  2.600000e+02  \n",
       "...            ...           ...           ...           ...  \n",
       "2140  0.000000e+00  1.000000e+00  6.000000e+01  0.000000e+00  \n",
       "2141  1.224647e-16 -1.000000e+00  1.400000e+02  2.400000e+02  \n",
       "2142  1.224647e-16 -1.000000e+00  2.400000e+02  3.000000e+02  \n",
       "2143  1.224647e-16 -1.000000e+00  1.800000e+02  2.400000e+02  \n",
       "2144  1.000000e+00  6.123234e-17  1.600000e+02 -9.312268e-15  \n",
       "\n",
       "[2145 rows x 7 columns]"
      ]
     },
     "execution_count": 18,
     "metadata": {},
     "output_type": "execute_result"
    }
   ],
   "source": [
    "df_val = pd.DataFrame(data=data)\n",
    "df_val"
   ]
  },
  {
   "cell_type": "code",
   "execution_count": 19,
   "metadata": {},
   "outputs": [],
   "source": [
    "df_train.to_csv('val_240.csv', index = False)"
   ]
  },
  {
   "cell_type": "code",
   "execution_count": null,
   "metadata": {},
   "outputs": [],
   "source": []
  }
 ],
 "metadata": {
  "kernelspec": {
   "display_name": "Python 3",
   "language": "python",
   "name": "python3"
  },
  "language_info": {
   "codemirror_mode": {
    "name": "ipython",
    "version": 3
   },
   "file_extension": ".py",
   "mimetype": "text/x-python",
   "name": "python",
   "nbconvert_exporter": "python",
   "pygments_lexer": "ipython3",
   "version": "3.7.4"
  }
 },
 "nbformat": 4,
 "nbformat_minor": 2
}
