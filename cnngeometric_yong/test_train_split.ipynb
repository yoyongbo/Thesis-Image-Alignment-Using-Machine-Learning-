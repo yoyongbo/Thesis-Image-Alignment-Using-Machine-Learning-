{
 "cells": [
  {
   "cell_type": "code",
   "execution_count": 2,
   "metadata": {},
   "outputs": [],
   "source": [
    "import pandas as pd\n",
    "from sklearn.utils import shuffle\n",
    "from sklearn.model_selection import train_test_split\n"
   ]
  },
  {
   "cell_type": "code",
   "execution_count": 4,
   "metadata": {},
   "outputs": [],
   "source": [
    "df = pd.read_csv('yong_data.csv')\n",
    "df = shuffle(df)\n",
    "\n",
    "train, test = train_test_split(df, test_size = 0.2)"
   ]
  },
  {
   "cell_type": "code",
   "execution_count": 5,
   "metadata": {},
   "outputs": [
    {
     "data": {
      "text/html": [
       "<div>\n",
       "<style scoped>\n",
       "    .dataframe tbody tr th:only-of-type {\n",
       "        vertical-align: middle;\n",
       "    }\n",
       "\n",
       "    .dataframe tbody tr th {\n",
       "        vertical-align: top;\n",
       "    }\n",
       "\n",
       "    .dataframe thead th {\n",
       "        text-align: right;\n",
       "    }\n",
       "</style>\n",
       "<table border=\"1\" class=\"dataframe\">\n",
       "  <thead>\n",
       "    <tr style=\"text-align: right;\">\n",
       "      <th></th>\n",
       "      <th>Source_Image_PATH</th>\n",
       "      <th>Transform_Image_PATH</th>\n",
       "      <th>A11</th>\n",
       "      <th>A12</th>\n",
       "      <th>tx</th>\n",
       "      <th>A21</th>\n",
       "      <th>A22</th>\n",
       "      <th>ty</th>\n",
       "    </tr>\n",
       "  </thead>\n",
       "  <tbody>\n",
       "    <tr>\n",
       "      <td>1458</td>\n",
       "      <td>center_images/46.448-63.996_13.png</td>\n",
       "      <td>transformed_images/down_60 right_-60 roate_180...</td>\n",
       "      <td>-1.0</td>\n",
       "      <td>1.224647e-16</td>\n",
       "      <td>300.0</td>\n",
       "      <td>-1.224647e-16</td>\n",
       "      <td>-1.0</td>\n",
       "      <td>180.0</td>\n",
       "    </tr>\n",
       "    <tr>\n",
       "      <td>7991</td>\n",
       "      <td>center_images/46.694-64.285_13.png</td>\n",
       "      <td>transformed_images/down_-120 right_120 roate_0...</td>\n",
       "      <td>1.0</td>\n",
       "      <td>0.000000e+00</td>\n",
       "      <td>120.0</td>\n",
       "      <td>0.000000e+00</td>\n",
       "      <td>1.0</td>\n",
       "      <td>-120.0</td>\n",
       "    </tr>\n",
       "  </tbody>\n",
       "</table>\n",
       "</div>"
      ],
      "text/plain": [
       "                       Source_Image_PATH  \\\n",
       "1458  center_images/46.448-63.996_13.png   \n",
       "7991  center_images/46.694-64.285_13.png   \n",
       "\n",
       "                                   Transform_Image_PATH  A11           A12  \\\n",
       "1458  transformed_images/down_60 right_-60 roate_180... -1.0  1.224647e-16   \n",
       "7991  transformed_images/down_-120 right_120 roate_0...  1.0  0.000000e+00   \n",
       "\n",
       "         tx           A21  A22     ty  \n",
       "1458  300.0 -1.224647e-16 -1.0  180.0  \n",
       "7991  120.0  0.000000e+00  1.0 -120.0  "
      ]
     },
     "execution_count": 5,
     "metadata": {},
     "output_type": "execute_result"
    }
   ],
   "source": [
    "train.head(2)"
   ]
  },
  {
   "cell_type": "code",
   "execution_count": 6,
   "metadata": {},
   "outputs": [],
   "source": [
    "train.to_csv('train_yong.csv', index=False)\n",
    "test.to_csv('test_yong.csv', index=False)"
   ]
  },
  {
   "cell_type": "code",
   "execution_count": null,
   "metadata": {},
   "outputs": [],
   "source": []
  }
 ],
 "metadata": {
  "kernelspec": {
   "display_name": "Python 3",
   "language": "python",
   "name": "python3"
  },
  "language_info": {
   "codemirror_mode": {
    "name": "ipython",
    "version": 3
   },
   "file_extension": ".py",
   "mimetype": "text/x-python",
   "name": "python",
   "nbconvert_exporter": "python",
   "pygments_lexer": "ipython3",
   "version": "3.7.4"
  }
 },
 "nbformat": 4,
 "nbformat_minor": 2
}
