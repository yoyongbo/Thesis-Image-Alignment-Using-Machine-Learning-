{
 "cells": [
  {
   "cell_type": "code",
   "execution_count": 1,
   "metadata": {},
   "outputs": [],
   "source": [
    "import numpy as np\n",
    "from tqdm import tqdm"
   ]
  },
  {
   "cell_type": "code",
   "execution_count": 4,
   "metadata": {},
   "outputs": [],
   "source": [
    "def train(epoch, model, loss_fn, optimizer, dataloder,pair_generation_tnf):\n",
    "    \"\"\"\n",
    "    Main function for training\n",
    "\n",
    "    :param epoch: int, epoch index\n",
    "    :param model: pytorch model object\n",
    "    :param loss_fn: loss function of the model\n",
    "    :param optimizer: optimizer of the model\n",
    "    :param dataloader: DataLoader object\n",
    "    \"\"\"\n",
    "    model.train()\n",
    "    train_loss =0\n",
    "    for batch_idx, batch in enumerate(tqdm(dataloder, desc='Epoch {}'.format(epoch))):\n",
    "        optimizer.zero_grad()\n",
    "        batch = pair_generation_tnf(batch)\n",
    "        \n",
    "        theta = model(batch)\n",
    "        print()\n",
    "        loss= loss_fn(theta, batch['theta'])\n",
    "        \n",
    "        \n",
    "        \n",
    "        loss.backward()\n",
    "        optimizer.step()\n",
    "        train_loss += loss.data.cpu().numpy().item()\n",
    "    train_loss /= len(dataloader)\n",
    "    print('Train set: Average loss: {:.4f}'.format(train_loss))\n",
    "    return train_loss\n",
    "        "
   ]
  },
  {
   "cell_type": "code",
   "execution_count": null,
   "metadata": {},
   "outputs": [],
   "source": []
  }
 ],
 "metadata": {
  "kernelspec": {
   "display_name": "Python 3",
   "language": "python",
   "name": "python3"
  },
  "language_info": {
   "codemirror_mode": {
    "name": "ipython",
    "version": 3
   },
   "file_extension": ".py",
   "mimetype": "text/x-python",
   "name": "python",
   "nbconvert_exporter": "python",
   "pygments_lexer": "ipython3",
   "version": "3.7.4"
  }
 },
 "nbformat": 4,
 "nbformat_minor": 2
}
