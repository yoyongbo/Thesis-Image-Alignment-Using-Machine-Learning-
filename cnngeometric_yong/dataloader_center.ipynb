{
 "cells": [
  {
   "cell_type": "code",
   "execution_count": 2,
   "metadata": {},
   "outputs": [],
   "source": [
    "import os\n",
    "import torch\n",
    "import pandas as pd\n",
    "import numpy as np\n",
    "from torch.utils.data import Dataset,DataLoader\n",
    "from torchvision import transforms, utils\n",
    "from skimage import io, transform"
   ]
  },
  {
   "cell_type": "code",
   "execution_count": 8,
   "metadata": {},
   "outputs": [],
   "source": [
    "'''\n",
    "torch.utils.data.Dataset is an abstract class representing a dataset. \n",
    "Your custom dataset should inherit Dataset and override the following methods:\n",
    "\n",
    "__len__ so that len(dataset) returns the size of the dataset.\n",
    "__getitem__ to support the indexing such that \n",
    "dataset[i] can be used to get ith sample\n",
    "'''\n",
    "class Center_DataSet(Dataset):\n",
    "    def __init__(self,csv_file, root_dir, transform=None ):\n",
    "        \n",
    "        \"\"\"\n",
    "        Args:\n",
    "            csv_file (string): Path to the csv file with annotations.\n",
    "            root_dir (string): Directory with all the images.\n",
    "            transform (callable, optional): Optional transform to be applied\n",
    "                on a sample.\n",
    "        \"\"\"\n",
    "        self.yong_data = pd.read_csv('yong_data.csv')\n",
    "        self.root_dir = root_dir\n",
    "        delf.transform = transform\n",
    "        \n",
    "    def __len__(self):\n",
    "        return len(self.yong_data)\n",
    "    \n",
    "    def __getitem__(self, idx):\n",
    "        if torch.is_tensor(idx):\n",
    "            idx = idx.tolist()\n",
    "        center_img_path = os.path.join(self.root_dir, self.yong_data.iloc[idx,0])\n",
    "        center_img = io.imread(center_img_path)\n",
    "        \n",
    "        affine = self.iloc[idx, 2:]\n",
    "        affine= np.array([affine])\n",
    "        affine = affine.astype('float').reshape(-1,3)\n",
    "        \n",
    "        center_img = torch.Tensor(center_img.astype(np.float32))\n",
    "        affine = torch.Tensor(affine.astype(np.float32))\n",
    "        center_img = center_img.transpose(1, 2).transpose(0, 1)\n",
    "        sample = {'image': center_img, 'theta': affine}\n",
    "        return sample\n",
    "        "
   ]
  },
  {
   "cell_type": "code",
   "execution_count": null,
   "metadata": {},
   "outputs": [],
   "source": []
  }
 ],
 "metadata": {
  "kernelspec": {
   "display_name": "Python 3",
   "language": "python",
   "name": "python3"
  },
  "language_info": {
   "codemirror_mode": {
    "name": "ipython",
    "version": 3
   },
   "file_extension": ".py",
   "mimetype": "text/x-python",
   "name": "python",
   "nbconvert_exporter": "python",
   "pygments_lexer": "ipython3",
   "version": "3.7.4"
  }
 },
 "nbformat": 4,
 "nbformat_minor": 2
}
