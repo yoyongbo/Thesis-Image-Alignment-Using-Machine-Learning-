{
 "cells": [
  {
   "cell_type": "code",
   "execution_count": 1,
   "metadata": {},
   "outputs": [],
   "source": [
    "#Image Translation\n",
    "import os.path\n",
    "import csv\n",
    "import cv2\n",
    "import numpy as np\n",
    "import tqdm as tqdm\n",
    "import os\n",
    "import matplotlib.pyplot as plt"
   ]
  },
  {
   "cell_type": "code",
   "execution_count": 2,
   "metadata": {},
   "outputs": [],
   "source": [
    "def write_to_datas(file_path, row_content):\n",
    "    with open(file_path, 'a')as file:\n",
    "        fileWrite = csv.writer(file)\n",
    "        fileWrite.writerow(row_content)"
   ]
  },
  {
   "cell_type": "code",
   "execution_count": 3,
   "metadata": {},
   "outputs": [],
   "source": [
    "def img_read(img_name):\n",
    "    with open(transImg_csv_path) as file:\n",
    "        csv_file = csv.reader(file, delimiter=',')\n",
    "        for i in csv_file:\n",
    "            if str(img_name) == ''.join(i):\n",
    "                return True\n",
    "    return False"
   ]
  },
  {
   "cell_type": "code",
   "execution_count": 4,
   "metadata": {},
   "outputs": [],
   "source": [
    "def store_transform_images(img, down, right, rotate_angle, src_img_path, src_name):\n",
    "    height, width = img.shape[:2]\n",
    "    center = (width / 2, height / 2)\n",
    "    img_center =(240 / 2, 240 / 2)\n",
    "    h, w = data_height, data_width\n",
    "    h = int(h)\n",
    "    w = int(w)\n",
    "    T = np.float32([[1, 0, right], [0, 1, down]])\n",
    "    M = cv2.getRotationMatrix2D(center, rotate_angle, 1.0)\n",
    "\n",
    "    M_extend= np.append(M, [[0,0,1]], axis=0)\n",
    "    T_extend = np.float32([[1, 0, right], [0, 1, down], [0, 0, 1]])\n",
    "\n",
    "    # translation matrix (affine matrix - the goal)\n",
    "    matrix_mat = np.matmul(M_extend, T_extend)\n",
    "    img_r_t = cv2.warpAffine(img, matrix_mat[:2], (width, height))\n",
    "    img_r_t_crop = crop_center_img(img_r_t, data_height, data_width)\n",
    "\n",
    "    img_name= ' down_'+str(down)+' right_'+str(right)+' roate_'+str(rotate_angle)+src_name+'.png'\n",
    "    trans_img_path = transed_img_path+'/'+img_name\n",
    "    cv2.imwrite(trans_img_path, img_r_t_crop)\n",
    "    row_content =[]\n",
    "    row_content.append(src_img_path)\n",
    "    row_content.append(trans_img_path)\n",
    "    # small image trans\n",
    "    T = np.float32([[1, 0, right], [0, 1, down]])\n",
    "    M = cv2.getRotationMatrix2D(img_center, rotate_angle, 1.0)\n",
    "    M_extend= np.append(M, [[0,0,1]], axis=0)\n",
    "    T_extend = np.float32([[1, 0, right], [0, 1, down], [0, 0, 1]])\n",
    "    matrix_mat = np.matmul(M_extend, T_extend)\n",
    "    \n",
    "    for i in matrix_mat[:2]:\n",
    "        for j in i:\n",
    "            row_content.append(j)\n",
    "    write_to_datas(data_set_sheet, row_content)"
   ]
  },
  {
   "cell_type": "code",
   "execution_count": 5,
   "metadata": {},
   "outputs": [],
   "source": [
    "def src_img(img, h, w,img_name):\n",
    "    data_height = h\n",
    "    data_width = w\n",
    "    height, width = img.shape[:2]\n",
    "    center = (width / 2, height / 2)\n",
    "    starting_y = center[1] - (h / 2)\n",
    "    starting_x = center[0]- (w / 2)\n",
    "    starting_y = int(starting_y)\n",
    "    starting_x = int(starting_x)\n",
    "    h = int(h)\n",
    "    w = int(w)\n",
    "    img_crop = img[starting_y: starting_y + h, starting_x: starting_x + w]\n",
    "    src_path = src_img_dir+'/'+img_name+'.png'\n",
    "    cv2.imwrite(src_path, img_crop)\n",
    "    return src_path"
   ]
  },
  {
   "cell_type": "code",
   "execution_count": 6,
   "metadata": {},
   "outputs": [],
   "source": [
    "def crop_center_img(img, h, w):\n",
    "    height, width = img.shape[:2]\n",
    "    center = (width / 2, height / 2)\n",
    "    starting_y = center[1] - (h / 2)\n",
    "    starting_x = center[0] - (w / 2)\n",
    "    starting_y = int(starting_y)\n",
    "    starting_x = int(starting_x)\n",
    "    h = int(h)\n",
    "    w = int(w)\n",
    "    img_crop = img[starting_y: starting_y + h, starting_x: starting_x + w]\n",
    "    return img_crop"
   ]
  },
  {
   "cell_type": "code",
   "execution_count": 8,
   "metadata": {},
   "outputs": [
    {
     "ename": "PermissionError",
     "evalue": "[Errno 13] Permission denied: 'data_set.csv'",
     "output_type": "error",
     "traceback": [
      "\u001b[1;31m---------------------------------------------------------------------------\u001b[0m",
      "\u001b[1;31mPermissionError\u001b[0m                           Traceback (most recent call last)",
      "\u001b[1;32m<ipython-input-8-016d3932f3f6>\u001b[0m in \u001b[0;36m<module>\u001b[1;34m\u001b[0m\n\u001b[0;32m     30\u001b[0m                 \u001b[0mhorizontal_trans\u001b[0m \u001b[1;33m=\u001b[0m \u001b[0mdistance\u001b[0m \u001b[1;33m*\u001b[0m \u001b[0mdir\u001b[0m\u001b[1;33m[\u001b[0m\u001b[1;36m1\u001b[0m\u001b[1;33m]\u001b[0m\u001b[1;33m\u001b[0m\u001b[1;33m\u001b[0m\u001b[0m\n\u001b[0;32m     31\u001b[0m                 \u001b[1;32mfor\u001b[0m \u001b[0mangle\u001b[0m \u001b[1;32min\u001b[0m \u001b[0mrotate\u001b[0m\u001b[1;33m:\u001b[0m\u001b[1;33m\u001b[0m\u001b[1;33m\u001b[0m\u001b[0m\n\u001b[1;32m---> 32\u001b[1;33m                     \u001b[0mstore_transform_images\u001b[0m\u001b[1;33m(\u001b[0m\u001b[0mimg\u001b[0m\u001b[1;33m,\u001b[0m \u001b[0mvertical_trans\u001b[0m\u001b[1;33m,\u001b[0m \u001b[0mhorizontal_trans\u001b[0m\u001b[1;33m,\u001b[0m \u001b[0mangle\u001b[0m\u001b[1;33m,\u001b[0m \u001b[0msrc_current_path\u001b[0m\u001b[1;33m,\u001b[0m \u001b[0mstr\u001b[0m\u001b[1;33m(\u001b[0m\u001b[0mi\u001b[0m\u001b[1;33m[\u001b[0m\u001b[1;33m:\u001b[0m\u001b[1;33m-\u001b[0m\u001b[1;36m4\u001b[0m\u001b[1;33m]\u001b[0m\u001b[1;33m)\u001b[0m\u001b[1;33m)\u001b[0m\u001b[1;33m\u001b[0m\u001b[1;33m\u001b[0m\u001b[0m\n\u001b[0m\u001b[0;32m     33\u001b[0m             \u001b[0mdistance\u001b[0m \u001b[1;33m+=\u001b[0m \u001b[1;36m20\u001b[0m\u001b[1;33m\u001b[0m\u001b[1;33m\u001b[0m\u001b[0m\n",
      "\u001b[1;32m<ipython-input-4-372a6c277ee1>\u001b[0m in \u001b[0;36mstore_transform_images\u001b[1;34m(img, down, right, rotate_angle, src_img_path, src_name)\u001b[0m\n\u001b[0;32m     25\u001b[0m         \u001b[1;32mfor\u001b[0m \u001b[0mj\u001b[0m \u001b[1;32min\u001b[0m \u001b[0mi\u001b[0m\u001b[1;33m:\u001b[0m\u001b[1;33m\u001b[0m\u001b[1;33m\u001b[0m\u001b[0m\n\u001b[0;32m     26\u001b[0m             \u001b[0mrow_content\u001b[0m\u001b[1;33m.\u001b[0m\u001b[0mappend\u001b[0m\u001b[1;33m(\u001b[0m\u001b[0mj\u001b[0m\u001b[1;33m)\u001b[0m\u001b[1;33m\u001b[0m\u001b[1;33m\u001b[0m\u001b[0m\n\u001b[1;32m---> 27\u001b[1;33m     \u001b[0mwrite_to_datas\u001b[0m\u001b[1;33m(\u001b[0m\u001b[0mdata_set_sheet\u001b[0m\u001b[1;33m,\u001b[0m \u001b[0mrow_content\u001b[0m\u001b[1;33m)\u001b[0m\u001b[1;33m\u001b[0m\u001b[1;33m\u001b[0m\u001b[0m\n\u001b[0m",
      "\u001b[1;32m<ipython-input-2-43e93fad1d77>\u001b[0m in \u001b[0;36mwrite_to_datas\u001b[1;34m(file_path, row_content)\u001b[0m\n\u001b[0;32m      1\u001b[0m \u001b[1;32mdef\u001b[0m \u001b[0mwrite_to_datas\u001b[0m\u001b[1;33m(\u001b[0m\u001b[0mfile_path\u001b[0m\u001b[1;33m,\u001b[0m \u001b[0mrow_content\u001b[0m\u001b[1;33m)\u001b[0m\u001b[1;33m:\u001b[0m\u001b[1;33m\u001b[0m\u001b[1;33m\u001b[0m\u001b[0m\n\u001b[1;32m----> 2\u001b[1;33m     \u001b[1;32mwith\u001b[0m \u001b[0mopen\u001b[0m\u001b[1;33m(\u001b[0m\u001b[0mfile_path\u001b[0m\u001b[1;33m,\u001b[0m \u001b[1;34m'a'\u001b[0m\u001b[1;33m)\u001b[0m\u001b[1;32mas\u001b[0m \u001b[0mfile\u001b[0m\u001b[1;33m:\u001b[0m\u001b[1;33m\u001b[0m\u001b[1;33m\u001b[0m\u001b[0m\n\u001b[0m\u001b[0;32m      3\u001b[0m         \u001b[0mfileWrite\u001b[0m \u001b[1;33m=\u001b[0m \u001b[0mcsv\u001b[0m\u001b[1;33m.\u001b[0m\u001b[0mwriter\u001b[0m\u001b[1;33m(\u001b[0m\u001b[0mfile\u001b[0m\u001b[1;33m)\u001b[0m\u001b[1;33m\u001b[0m\u001b[1;33m\u001b[0m\u001b[0m\n\u001b[0;32m      4\u001b[0m         \u001b[0mfileWrite\u001b[0m\u001b[1;33m.\u001b[0m\u001b[0mwriterow\u001b[0m\u001b[1;33m(\u001b[0m\u001b[0mrow_content\u001b[0m\u001b[1;33m)\u001b[0m\u001b[1;33m\u001b[0m\u001b[1;33m\u001b[0m\u001b[0m\n",
      "\u001b[1;31mPermissionError\u001b[0m: [Errno 13] Permission denied: 'data_set.csv'"
     ]
    }
   ],
   "source": [
    "header = ['Source_Image_PATH', 'Transform_Image_PATH', 'A11', 'A12', 'tx', 'A21', 'A22', 'ty']\n",
    "rotate = [0, 90, 180, 270]\n",
    "\n",
    "data_height = 240\n",
    "data_width = 240\n",
    "images_path = 'Images/'\n",
    "#src_img_path = 'src1/src_cropped.png'\n",
    "src_img_dir = 'center_images'\n",
    "transed_img_path ='transformed_images'\n",
    "transImg_csv_path = 'transformed.csv'\n",
    "data_set_sheet = 'data_set.csv'\n",
    "write_to_datas(data_set_sheet, header)\n",
    "directions = [[0, 1], [0, -1], [1, 0], [-1, 0],\n",
    "              [1, 1], [-1, -1], [1, -1], [-1, 1]]\n",
    "distance = 20\n",
    "steps = 6\n",
    "images_list = [f for f in os.listdir(images_path) if not f.startswith('.')]\n",
    "\n",
    "for i in images_list:\n",
    "    img = cv2.imread(os.path.join(images_path, i))\n",
    "    if not (img_read(str(i))):\n",
    "        write_to_datas(transImg_csv_path, [str(i)])\n",
    "        src_current_path = src_img(img, data_height, data_width, str(i[: -4]))\n",
    "        distance = 20\n",
    "        store_transform_images(img, 0, 0, 90, src_current_path, str(i[: -4]))\n",
    "        store_transform_images(img, 0, 0, 180, src_current_path, str(i[: -4]))\n",
    "        store_transform_images(img, 0, 0, 270, src_current_path, str(i[: -4]))\n",
    "        for step in range(steps):\n",
    "            for dir in directions:\n",
    "                vertical_trans = distance * dir[0]\n",
    "                horizontal_trans = distance * dir[1]\n",
    "                for angle in rotate:\n",
    "                    store_transform_images(img, vertical_trans, horizontal_trans, angle, src_current_path, str(i[:-4]))\n",
    "            distance += 20"
   ]
  },
  {
   "cell_type": "code",
   "execution_count": null,
   "metadata": {},
   "outputs": [],
   "source": []
  }
 ],
 "metadata": {
  "kernelspec": {
   "display_name": "Python 3",
   "language": "python",
   "name": "python3"
  },
  "language_info": {
   "codemirror_mode": {
    "name": "ipython",
    "version": 3
   },
   "file_extension": ".py",
   "mimetype": "text/x-python",
   "name": "python",
   "nbconvert_exporter": "python",
   "pygments_lexer": "ipython3",
   "version": "3.7.4"
  }
 },
 "nbformat": 4,
 "nbformat_minor": 2
}
