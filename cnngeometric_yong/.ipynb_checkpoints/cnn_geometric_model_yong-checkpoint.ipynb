{
 "cells": [
  {
   "cell_type": "code",
   "execution_count": 1,
   "metadata": {},
   "outputs": [],
   "source": [
    "import torch\n",
    "import torch.nn as nn\n",
    "import torchvision.models as models"
   ]
  },
  {
   "cell_type": "code",
   "execution_count": 6,
   "metadata": {},
   "outputs": [],
   "source": [
    "class FeatureExtraction(torch.nn.Module):\n",
    "    def __init__(self, use_cuda =True, feature_extraction_cnn ='vgg', last_layer=''):\n",
    "        super(FeatureExtraction, self).__init__()\n",
    "        self.model = models.vgg16(pretrained=True)\n",
    "        vgg_feature_layers = ['conv1_1', 'relu1_1', 'conv1_2', 'relu1_2', 'pool1',\n",
    "                                  'conv2_1', 'relu2_1', 'conv2_2', 'relu2_2', 'pool2',\n",
    "                                  'conv3_1', 'relu3_1', 'conv3_2', 'relu3_2', 'conv3_3',\n",
    "                                  'relu3_3', 'pool3', 'conv4_1', 'relu4_1', 'conv4_2',\n",
    "                                  'relu4_2', 'conv4_3', 'relu4_3', 'pool4', 'conv5_1',\n",
    "                                  'relu5_1', 'conv5_2', 'relu5_2', 'conv5_3', 'relu5_3', 'pool5']\n",
    "        if last_tear == '':\n",
    "            last_layer = 'pool4'\n",
    "        last_year_idx = vgg_feature_layers.index(last_layer)\n",
    "        \n",
    "        self.model = nn.Sequential(*list(self.model.features.children())\n",
    "                                  [:last_layer_idx+1])\n",
    "        \n",
    "        # freeze parameters\n",
    "        for param in self.model.parameters():\n",
    "            param.requires_grad = False\n",
    "        \n",
    "        if use_cuda:\n",
    "            self.model.cuda()\n",
    "            \n",
    "    def forward(self, img_batch):\n",
    "        image_batch = image_batch.cuda()\n",
    "        return self.model(image_batch)\n",
    "        \n",
    "        \n",
    "        "
   ]
  },
  {
   "cell_type": "code",
   "execution_count": null,
   "metadata": {},
   "outputs": [],
   "source": []
  }
 ],
 "metadata": {
  "kernelspec": {
   "display_name": "Python 3",
   "language": "python",
   "name": "python3"
  },
  "language_info": {
   "codemirror_mode": {
    "name": "ipython",
    "version": 3
   },
   "file_extension": ".py",
   "mimetype": "text/x-python",
   "name": "python",
   "nbconvert_exporter": "python",
   "pygments_lexer": "ipython3",
   "version": "3.7.4"
  }
 },
 "nbformat": 4,
 "nbformat_minor": 2
}
